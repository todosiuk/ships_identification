{
 "cells": [
  {
   "cell_type": "code",
   "execution_count": 1,
   "metadata": {},
   "outputs": [
    {
     "data": {
      "text/html": [
       "<div>\n",
       "<style>\n",
       "    .dataframe thead tr:only-child th {\n",
       "        text-align: right;\n",
       "    }\n",
       "\n",
       "    .dataframe thead th {\n",
       "        text-align: left;\n",
       "    }\n",
       "\n",
       "    .dataframe tbody tr th {\n",
       "        vertical-align: top;\n",
       "    }\n",
       "</style>\n",
       "<table border=\"1\" class=\"dataframe\">\n",
       "  <thead>\n",
       "    <tr style=\"text-align: right;\">\n",
       "      <th></th>\n",
       "      <th>data</th>\n",
       "      <th>labels</th>\n",
       "      <th>locations</th>\n",
       "      <th>scene_ids</th>\n",
       "    </tr>\n",
       "  </thead>\n",
       "  <tbody>\n",
       "    <tr>\n",
       "      <th>0</th>\n",
       "      <td>[41, 40, 41, 44, 43, 40, 38, 40, 44, 42, 31, 3...</td>\n",
       "      <td>1</td>\n",
       "      <td>[-122.34270462076896, 37.75058641760489]</td>\n",
       "      <td>20170501_180618_1005</td>\n",
       "    </tr>\n",
       "    <tr>\n",
       "      <th>1</th>\n",
       "      <td>[22, 19, 26, 26, 21, 20, 26, 24, 24, 28, 20, 1...</td>\n",
       "      <td>1</td>\n",
       "      <td>[-122.34975593269652, 37.76979644106731]</td>\n",
       "      <td>20170501_181320_0e1f</td>\n",
       "    </tr>\n",
       "    <tr>\n",
       "      <th>2</th>\n",
       "      <td>[112, 112, 106, 104, 107, 109, 113, 115, 108, ...</td>\n",
       "      <td>1</td>\n",
       "      <td>[-122.34908354683306, 37.74935096766827]</td>\n",
       "      <td>20170609_180756_103a</td>\n",
       "    </tr>\n",
       "    <tr>\n",
       "      <th>3</th>\n",
       "      <td>[72, 76, 73, 72, 73, 74, 75, 73, 74, 73, 73, 7...</td>\n",
       "      <td>1</td>\n",
       "      <td>[-122.32613080820607, 37.73816285249999]</td>\n",
       "      <td>20170721_180825_100b</td>\n",
       "    </tr>\n",
       "    <tr>\n",
       "      <th>4</th>\n",
       "      <td>[63, 58, 58, 63, 65, 66, 70, 66, 59, 67, 71, 6...</td>\n",
       "      <td>1</td>\n",
       "      <td>[-122.3332290637038, 37.721168346437786]</td>\n",
       "      <td>20170702_180943_103c</td>\n",
       "    </tr>\n",
       "    <tr>\n",
       "      <th>5</th>\n",
       "      <td>[136, 136, 132, 133, 136, 129, 126, 128, 134, ...</td>\n",
       "      <td>1</td>\n",
       "      <td>[-122.32982392204339, 37.747728821717814]</td>\n",
       "      <td>20170609_180751_101b</td>\n",
       "    </tr>\n",
       "    <tr>\n",
       "      <th>6</th>\n",
       "      <td>[99, 94, 86, 91, 99, 96, 102, 103, 95, 97, 100...</td>\n",
       "      <td>1</td>\n",
       "      <td>[-122.33472265432373, 37.759680938376434]</td>\n",
       "      <td>20170830_181004_0f4e</td>\n",
       "    </tr>\n",
       "    <tr>\n",
       "      <th>7</th>\n",
       "      <td>[77, 76, 77, 75, 70, 77, 80, 78, 76, 76, 78, 7...</td>\n",
       "      <td>1</td>\n",
       "      <td>[-122.32284323152084, 37.71781032748524]</td>\n",
       "      <td>20170705_180816_103e</td>\n",
       "    </tr>\n",
       "    <tr>\n",
       "      <th>8</th>\n",
       "      <td>[68, 75, 68, 61, 65, 73, 67, 61, 63, 67, 63, 6...</td>\n",
       "      <td>1</td>\n",
       "      <td>[-122.32580109488852, 37.70693034167392]</td>\n",
       "      <td>20170620_180742_102f</td>\n",
       "    </tr>\n",
       "    <tr>\n",
       "      <th>9</th>\n",
       "      <td>[134, 134, 136, 134, 133, 136, 137, 136, 137, ...</td>\n",
       "      <td>1</td>\n",
       "      <td>[-122.34931029388966, 37.77011845299925]</td>\n",
       "      <td>20170803_234846_0c54</td>\n",
       "    </tr>\n",
       "  </tbody>\n",
       "</table>\n",
       "</div>"
      ],
      "text/plain": [
       "                                                data  labels  \\\n",
       "0  [41, 40, 41, 44, 43, 40, 38, 40, 44, 42, 31, 3...       1   \n",
       "1  [22, 19, 26, 26, 21, 20, 26, 24, 24, 28, 20, 1...       1   \n",
       "2  [112, 112, 106, 104, 107, 109, 113, 115, 108, ...       1   \n",
       "3  [72, 76, 73, 72, 73, 74, 75, 73, 74, 73, 73, 7...       1   \n",
       "4  [63, 58, 58, 63, 65, 66, 70, 66, 59, 67, 71, 6...       1   \n",
       "5  [136, 136, 132, 133, 136, 129, 126, 128, 134, ...       1   \n",
       "6  [99, 94, 86, 91, 99, 96, 102, 103, 95, 97, 100...       1   \n",
       "7  [77, 76, 77, 75, 70, 77, 80, 78, 76, 76, 78, 7...       1   \n",
       "8  [68, 75, 68, 61, 65, 73, 67, 61, 63, 67, 63, 6...       1   \n",
       "9  [134, 134, 136, 134, 133, 136, 137, 136, 137, ...       1   \n",
       "\n",
       "                                   locations             scene_ids  \n",
       "0   [-122.34270462076896, 37.75058641760489]  20170501_180618_1005  \n",
       "1   [-122.34975593269652, 37.76979644106731]  20170501_181320_0e1f  \n",
       "2   [-122.34908354683306, 37.74935096766827]  20170609_180756_103a  \n",
       "3   [-122.32613080820607, 37.73816285249999]  20170721_180825_100b  \n",
       "4   [-122.3332290637038, 37.721168346437786]  20170702_180943_103c  \n",
       "5  [-122.32982392204339, 37.747728821717814]  20170609_180751_101b  \n",
       "6  [-122.33472265432373, 37.759680938376434]  20170830_181004_0f4e  \n",
       "7   [-122.32284323152084, 37.71781032748524]  20170705_180816_103e  \n",
       "8   [-122.32580109488852, 37.70693034167392]  20170620_180742_102f  \n",
       "9   [-122.34931029388966, 37.77011845299925]  20170803_234846_0c54  "
      ]
     },
     "execution_count": 1,
     "metadata": {},
     "output_type": "execute_result"
    }
   ],
   "source": [
    "import json\n",
    "import pandas as pd\n",
    "import numpy as np\n",
    "with open('C:\\\\Users\\\\todosuk\\\\Desktop\\\\shipsnet.json') as data_file:\n",
    "    dataset = json.load(data_file)\n",
    "data = pd.DataFrame(dataset)\n",
    "data.head(10)"
   ]
  },
  {
   "cell_type": "code",
   "execution_count": 2,
   "metadata": {
    "collapsed": true
   },
   "outputs": [],
   "source": [
    "x = np.array(dataset['data']).astype('uint8')\n",
    "y = np.array(dataset['labels']).astype('uint8')"
   ]
  },
  {
   "cell_type": "code",
   "execution_count": 3,
   "metadata": {},
   "outputs": [
    {
     "name": "stdout",
     "output_type": "stream",
     "text": [
      "(2800, 19200)\n",
      "(2800,)\n"
     ]
    }
   ],
   "source": [
    "print(x.shape)\n",
    "print(y.shape)"
   ]
  },
  {
   "cell_type": "code",
   "execution_count": 4,
   "metadata": {},
   "outputs": [
    {
     "name": "stderr",
     "output_type": "stream",
     "text": [
      "C:\\Users\\todosuk\\AppData\\Local\\Continuum\\anaconda3\\lib\\site-packages\\sklearn\\cross_validation.py:41: DeprecationWarning: This module was deprecated in version 0.18 in favor of the model_selection module into which all the refactored classes and functions are moved. Also note that the interface of the new CV iterators are different from that of this module. This module will be removed in 0.20.\n",
      "  \"This module will be removed in 0.20.\", DeprecationWarning)\n"
     ]
    }
   ],
   "source": [
    "from sklearn.cross_validation import train_test_split\n",
    "x_train,x_test,y_train,y_test = train_test_split(x,y,test_size = 0.2 ,random_state = 123)"
   ]
  },
  {
   "cell_type": "code",
   "execution_count": 5,
   "metadata": {},
   "outputs": [
    {
     "name": "stdout",
     "output_type": "stream",
     "text": [
      "(2240, 19200)\n",
      "(2240,)\n"
     ]
    }
   ],
   "source": [
    "print(x_train.shape)\n",
    "print(y_train.shape)"
   ]
  },
  {
   "cell_type": "code",
   "execution_count": 6,
   "metadata": {},
   "outputs": [
    {
     "name": "stdout",
     "output_type": "stream",
     "text": [
      "\n",
      "Compare Multiple Classifiers:\n",
      "\n",
      "K-Fold Cross-Validation Accuracy:\n",
      "\n",
      "LR: 0.866518 (0.021820)\n",
      "RF: 0.931696 (0.019870)\n",
      "KNN: 0.916518 (0.014265)\n",
      "SVM: 0.745536 (0.031441)\n",
      "LSVM: 0.870982 (0.022002)\n",
      "GNB: 0.642411 (0.024078)\n",
      "DTC: 0.887500 (0.016439)\n",
      "XGB: 0.944196 (0.014293)\n"
     ]
    }
   ],
   "source": [
    "from sklearn.linear_model import LogisticRegression\n",
    "from sklearn.ensemble import RandomForestClassifier, GradientBoostingClassifier\n",
    "from sklearn.neighbors import KNeighborsClassifier\n",
    "from sklearn.svm import SVC, LinearSVC\n",
    "from sklearn.naive_bayes import GaussianNB\n",
    "from sklearn.tree import DecisionTreeClassifier\n",
    "from sklearn.model_selection import KFold, cross_val_score\n",
    "\n",
    "\n",
    "\n",
    "def compareABunchOfDifferentModelsAccuracy(a,b,c,d):   \n",
    "    print('\\nCompare Multiple Classifiers:')\n",
    "    print('\\nK-Fold Cross-Validation Accuracy:\\n')\n",
    "    models = []\n",
    "    models.append(('LR', LogisticRegression()))\n",
    "    models.append(('RF', RandomForestClassifier()))\n",
    "    models.append(('KNN', KNeighborsClassifier()))\n",
    "    models.append(('SVM', SVC()))\n",
    "    models.append(('LSVM', LinearSVC()))\n",
    "    models.append(('GNB', GaussianNB()))\n",
    "    models.append(('DTC', DecisionTreeClassifier()))\n",
    "    models.append(('XGB', GradientBoostingClassifier()))\n",
    "  \n",
    "    resultsAccuracy = []\n",
    "    names = []\n",
    "    for name, model in models:\n",
    "        model.fit(a,b)\n",
    "        kfold = KFold(n_splits=10, random_state=7)\n",
    "        accuracy_results = cross_val_score(model, a,b, cv=kfold, scoring='accuracy')\n",
    "        resultsAccuracy.append(accuracy_results)\n",
    "        names.append(name)\n",
    "        accuracyMessage = \"%s: %f (%f)\" % (name, accuracy_results.mean(), accuracy_results.std())\n",
    "        print(accuracyMessage)\n",
    "compareABunchOfDifferentModelsAccuracy(x_train,y_train,x_test,y_test)"
   ]
  },
  {
   "cell_type": "code",
   "execution_count": 7,
   "metadata": {},
   "outputs": [
    {
     "name": "stdout",
     "output_type": "stream",
     "text": [
      "Fitting 3 folds for each of 5880 candidates, totalling 17640 fits\n"
     ]
    },
    {
     "name": "stderr",
     "output_type": "stream",
     "text": [
      "[Parallel(n_jobs=-1)]: Done  46 tasks      | elapsed:  1.8min\n",
      "[Parallel(n_jobs=-1)]: Done 196 tasks      | elapsed:  6.9min\n",
      "[Parallel(n_jobs=-1)]: Done 446 tasks      | elapsed: 15.5min\n",
      "[Parallel(n_jobs=-1)]: Done 796 tasks      | elapsed: 27.6min\n",
      "[Parallel(n_jobs=-1)]: Done 1246 tasks      | elapsed: 43.3min\n",
      "[Parallel(n_jobs=-1)]: Done 1796 tasks      | elapsed: 62.9min\n",
      "[Parallel(n_jobs=-1)]: Done 2446 tasks      | elapsed: 86.6min\n",
      "[Parallel(n_jobs=-1)]: Done 3196 tasks      | elapsed: 113.9min\n",
      "[Parallel(n_jobs=-1)]: Done 4046 tasks      | elapsed: 143.8min\n",
      "[Parallel(n_jobs=-1)]: Done 4996 tasks      | elapsed: 178.6min\n",
      "[Parallel(n_jobs=-1)]: Done 6046 tasks      | elapsed: 217.6min\n",
      "[Parallel(n_jobs=-1)]: Done 7196 tasks      | elapsed: 257.8min\n",
      "[Parallel(n_jobs=-1)]: Done 8446 tasks      | elapsed: 304.1min\n",
      "[Parallel(n_jobs=-1)]: Done 9796 tasks      | elapsed: 352.3min\n",
      "[Parallel(n_jobs=-1)]: Done 11246 tasks      | elapsed: 405.6min\n",
      "[Parallel(n_jobs=-1)]: Done 12796 tasks      | elapsed: 461.5min\n",
      "[Parallel(n_jobs=-1)]: Done 14446 tasks      | elapsed: 522.8min\n",
      "[Parallel(n_jobs=-1)]: Done 16196 tasks      | elapsed: 585.4min\n",
      "[Parallel(n_jobs=-1)]: Done 17640 out of 17640 | elapsed: 639.7min finished\n"
     ]
    },
    {
     "name": "stdout",
     "output_type": "stream",
     "text": [
      "Accuracy (random forest auto): 0.9651785714285714 with params {'max_depth': 9, 'max_features': 11, 'min_samples_leaf': 21, 'min_samples_split': 200, 'n_estimators': 400}\n"
     ]
    }
   ],
   "source": [
    "from sklearn.model_selection import GridSearchCV, StratifiedKFold\n",
    "\n",
    "cv = StratifiedKFold(n_splits=3, shuffle=True, random_state=1)\n",
    "alg_frst_model = GradientBoostingClassifier(random_state=1)\n",
    "alg_frst_params = [{\n",
    "    \"n_estimators\":range (100,500,100),\n",
    "    \"min_samples_split\": range(200,1001,200),\n",
    "    \"min_samples_leaf\": range(1, 71, 10),\n",
    "    'max_depth':range(5,16,2),\n",
    "    'max_features':range(7,20,2)\n",
    "}]\n",
    "alg_frst_grid = GridSearchCV(alg_frst_model, alg_frst_params, cv=cv, refit=True, verbose=1, n_jobs=-1)\n",
    "alg_frst_grid.fit(x_train, y_train)\n",
    "alg_frst_best = alg_frst_grid.best_estimator_\n",
    "print(\"Accuracy (random forest auto): {} with params {}\"\n",
    "      .format(alg_frst_grid.best_score_, alg_frst_grid.best_params_))"
   ]
  },
  {
   "cell_type": "code",
   "execution_count": null,
   "metadata": {
    "collapsed": true
   },
   "outputs": [],
   "source": []
  }
 ],
 "metadata": {
  "kernelspec": {
   "display_name": "Python 3",
   "language": "python",
   "name": "python3"
  },
  "language_info": {
   "codemirror_mode": {
    "name": "ipython",
    "version": 3
   },
   "file_extension": ".py",
   "mimetype": "text/x-python",
   "name": "python",
   "nbconvert_exporter": "python",
   "pygments_lexer": "ipython3",
   "version": "3.6.3"
  }
 },
 "nbformat": 4,
 "nbformat_minor": 2
}
